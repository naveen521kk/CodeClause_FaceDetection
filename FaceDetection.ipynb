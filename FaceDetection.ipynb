{
 "cells": [
  {
   "cell_type": "code",
   "execution_count": null,
   "metadata": {
    "_cell_guid": "b1076dfc-b9ad-4769-8c92-a6c4dae69d19",
    "_uuid": "8f2839f25d086af736a60e9eeb907d3b93b6e0e5",
    "execution": {
     "iopub.execute_input": "2023-05-23T18:33:12.694389Z",
     "iopub.status.busy": "2023-05-23T18:33:12.693997Z",
     "iopub.status.idle": "2023-05-23T18:33:24.901882Z",
     "shell.execute_reply": "2023-05-23T18:33:24.900740Z",
     "shell.execute_reply.started": "2023-05-23T18:33:12.694358Z"
    },
    "trusted": true
   },
   "outputs": [],
   "source": [
    "%pip install retina-face imutils opencv-python"
   ]
  },
  {
   "cell_type": "code",
   "execution_count": null,
   "metadata": {
    "execution": {
     "iopub.execute_input": "2023-05-23T18:33:36.477512Z",
     "iopub.status.busy": "2023-05-23T18:33:36.476660Z",
     "iopub.status.idle": "2023-05-23T18:33:40.236395Z",
     "shell.execute_reply": "2023-05-23T18:33:40.235237Z",
     "shell.execute_reply.started": "2023-05-23T18:33:36.477469Z"
    },
    "trusted": true
   },
   "outputs": [],
   "source": [
    "# Download test images from unsplash, see README for attributions\n",
    "!curl -L https://images.unsplash.com/photo-1625990637351-ee0e5e9ba5e5 -o test1.jpeg\n",
    "!curl -L https://images.unsplash.com/photo-1542304074-9c8ce93b52fd -o test2.jpeg\n",
    "!curl -L https://images.unsplash.com/photo-1523151401668-fff9e38a48e4 -o test3.jpeg"
   ]
  },
  {
   "cell_type": "code",
   "execution_count": null,
   "metadata": {},
   "outputs": [],
   "source": [
    "# Download test video from pexels, see README for attributions\n",
    "!curl -L https://download.pexels.com/vimeo/374178490/pexels-fauxels-3254006.mp4?width=3840 -o test.mp4"
   ]
  },
  {
   "cell_type": "code",
   "execution_count": null,
   "metadata": {
    "execution": {
     "iopub.execute_input": "2023-05-23T18:33:40.240953Z",
     "iopub.status.busy": "2023-05-23T18:33:40.239975Z",
     "iopub.status.idle": "2023-05-23T18:33:40.247760Z",
     "shell.execute_reply": "2023-05-23T18:33:40.246719Z",
     "shell.execute_reply.started": "2023-05-23T18:33:40.240911Z"
    },
    "trusted": true
   },
   "outputs": [],
   "source": [
    "import os\n",
    "from pathlib import Path\n",
    "\n",
    "import cv2 as cv\n",
    "import imutils\n",
    "import numpy as np\n",
    "from IPython.display import Image, Video\n",
    "from retinaface import RetinaFace\n",
    "from tqdm import tqdm"
   ]
  },
  {
   "cell_type": "code",
   "execution_count": null,
   "metadata": {
    "execution": {
     "iopub.execute_input": "2023-05-23T18:33:40.253082Z",
     "iopub.status.busy": "2023-05-23T18:33:40.252411Z",
     "iopub.status.idle": "2023-05-23T18:33:40.825664Z",
     "shell.execute_reply": "2023-05-23T18:33:40.824621Z",
     "shell.execute_reply.started": "2023-05-23T18:33:40.253041Z"
    },
    "trusted": true
   },
   "outputs": [],
   "source": [
    "img_path = \"test3.jpeg\"\n",
    "faces = RetinaFace.detect_faces(img_path)"
   ]
  },
  {
   "cell_type": "code",
   "execution_count": null,
   "metadata": {
    "execution": {
     "iopub.execute_input": "2023-05-23T18:33:40.827656Z",
     "iopub.status.busy": "2023-05-23T18:33:40.827271Z",
     "iopub.status.idle": "2023-05-23T18:33:40.837866Z",
     "shell.execute_reply": "2023-05-23T18:33:40.836768Z",
     "shell.execute_reply.started": "2023-05-23T18:33:40.827622Z"
    },
    "trusted": true
   },
   "outputs": [],
   "source": [
    "faces"
   ]
  },
  {
   "cell_type": "code",
   "execution_count": null,
   "metadata": {
    "execution": {
     "iopub.execute_input": "2023-05-23T18:33:40.840844Z",
     "iopub.status.busy": "2023-05-23T18:33:40.839926Z",
     "iopub.status.idle": "2023-05-23T18:33:40.849662Z",
     "shell.execute_reply": "2023-05-23T18:33:40.848555Z",
     "shell.execute_reply.started": "2023-05-23T18:33:40.840797Z"
    },
    "trusted": true
   },
   "outputs": [],
   "source": [
    "def visualize(image, results, box_color=(0, 255, 0), text_color=(0, 0, 255)):\n",
    "    output = image.copy()\n",
    "    for det in results.values():\n",
    "        bbox = det[\"facial_area\"]\n",
    "        cv.rectangle(output, (bbox[0], bbox[1]), (bbox[2], bbox[3]), box_color, 2)\n",
    "\n",
    "        conf = det[\"score\"]\n",
    "        cv.putText(\n",
    "            output,\n",
    "            \"{:.4f}\".format(conf),\n",
    "            (bbox[0], bbox[1] + 12),\n",
    "            cv.FONT_HERSHEY_DUPLEX,\n",
    "            0.5,\n",
    "            text_color,\n",
    "        )\n",
    "\n",
    "    return output"
   ]
  },
  {
   "cell_type": "code",
   "execution_count": null,
   "metadata": {
    "execution": {
     "iopub.execute_input": "2023-05-23T18:33:40.852304Z",
     "iopub.status.busy": "2023-05-23T18:33:40.851498Z",
     "iopub.status.idle": "2023-05-23T18:33:40.860677Z",
     "shell.execute_reply": "2023-05-23T18:33:40.859626Z",
     "shell.execute_reply.started": "2023-05-23T18:33:40.852269Z"
    },
    "trusted": true
   },
   "outputs": [],
   "source": [
    "def detect_face(input_image):\n",
    "    input_image = Path(input_image)\n",
    "    image = cv.imread(os.fspath(input_image))\n",
    "\n",
    "    image = imutils.resize(image, width=1000)  # just to make the image smaller\n",
    "    # results = RetinaFace.detect_faces(os.fspath(image))\n",
    "    results = RetinaFace.detect_faces(np.array(image))\n",
    "\n",
    "    # Print results\n",
    "    print(\"{} faces detected.\".format(len(results)))\n",
    "\n",
    "    # Draw results on the input image\n",
    "    image = visualize(image, results)\n",
    "\n",
    "    out_image = input_image.parent / (input_image.stem + \"_result.jpeg\")\n",
    "    cv.imwrite(os.fspath(out_image), image)\n",
    "    display(Image(filename=os.fspath(out_image)))"
   ]
  },
  {
   "cell_type": "code",
   "execution_count": null,
   "metadata": {
    "execution": {
     "iopub.execute_input": "2023-05-23T18:33:40.863190Z",
     "iopub.status.busy": "2023-05-23T18:33:40.862467Z",
     "iopub.status.idle": "2023-05-23T18:33:41.749359Z",
     "shell.execute_reply": "2023-05-23T18:33:41.748206Z",
     "shell.execute_reply.started": "2023-05-23T18:33:40.863138Z"
    },
    "trusted": true
   },
   "outputs": [],
   "source": [
    "detect_face(\"test1.jpeg\")"
   ]
  },
  {
   "cell_type": "code",
   "execution_count": null,
   "metadata": {
    "execution": {
     "iopub.execute_input": "2023-05-23T18:33:41.751227Z",
     "iopub.status.busy": "2023-05-23T18:33:41.750587Z",
     "iopub.status.idle": "2023-05-23T18:33:42.344310Z",
     "shell.execute_reply": "2023-05-23T18:33:42.343426Z",
     "shell.execute_reply.started": "2023-05-23T18:33:41.751170Z"
    },
    "trusted": true
   },
   "outputs": [],
   "source": [
    "detect_face(\"test2.jpeg\")"
   ]
  },
  {
   "cell_type": "code",
   "execution_count": null,
   "metadata": {
    "execution": {
     "iopub.execute_input": "2023-05-23T18:33:42.346269Z",
     "iopub.status.busy": "2023-05-23T18:33:42.345595Z",
     "iopub.status.idle": "2023-05-23T18:33:44.934703Z",
     "shell.execute_reply": "2023-05-23T18:33:44.933861Z",
     "shell.execute_reply.started": "2023-05-23T18:33:42.346235Z"
    },
    "trusted": true
   },
   "outputs": [],
   "source": [
    "detect_face(\"test3.jpeg\")"
   ]
  },
  {
   "cell_type": "code",
   "execution_count": null,
   "metadata": {
    "execution": {
     "iopub.execute_input": "2023-05-23T18:33:44.936803Z",
     "iopub.status.busy": "2023-05-23T18:33:44.936220Z",
     "iopub.status.idle": "2023-05-23T18:33:47.127607Z",
     "shell.execute_reply": "2023-05-23T18:33:47.126405Z",
     "shell.execute_reply.started": "2023-05-23T18:33:44.936762Z"
    },
    "trusted": true
   },
   "outputs": [],
   "source": [
    "# trim video to 4 seconds\n",
    "!ffmpeg -ss 0 -i test.mp4 -c copy -t 4 test-trim.mp4 -y"
   ]
  },
  {
   "cell_type": "code",
   "execution_count": null,
   "metadata": {
    "execution": {
     "iopub.execute_input": "2023-05-23T18:33:47.130337Z",
     "iopub.status.busy": "2023-05-23T18:33:47.129876Z",
     "iopub.status.idle": "2023-05-23T18:33:47.159654Z",
     "shell.execute_reply": "2023-05-23T18:33:47.158735Z",
     "shell.execute_reply.started": "2023-05-23T18:33:47.130293Z"
    },
    "trusted": true
   },
   "outputs": [],
   "source": [
    "cap = cv.VideoCapture(\"test-trim.mp4\")"
   ]
  },
  {
   "cell_type": "code",
   "execution_count": null,
   "metadata": {
    "execution": {
     "iopub.execute_input": "2023-05-23T18:33:47.165904Z",
     "iopub.status.busy": "2023-05-23T18:33:47.165617Z",
     "iopub.status.idle": "2023-05-23T18:33:47.255528Z",
     "shell.execute_reply": "2023-05-23T18:33:47.254339Z",
     "shell.execute_reply.started": "2023-05-23T18:33:47.165879Z"
    },
    "trusted": true
   },
   "outputs": [],
   "source": [
    "# fourcc = cv.VideoWriter_fourcc(*'mp4v')\n",
    "fourcc = cv.VideoWriter_fourcc(*\"VP90\")\n",
    "out = cv.VideoWriter(\"output.mp4\", fourcc, 30.0, (int(cap.get(3)), int(cap.get(4))))"
   ]
  },
  {
   "cell_type": "code",
   "execution_count": null,
   "metadata": {
    "execution": {
     "iopub.execute_input": "2023-05-23T18:33:47.257608Z",
     "iopub.status.busy": "2023-05-23T18:33:47.257238Z",
     "iopub.status.idle": "2023-05-23T18:35:43.897731Z",
     "shell.execute_reply": "2023-05-23T18:35:43.896655Z",
     "shell.execute_reply.started": "2023-05-23T18:33:47.257576Z"
    },
    "trusted": true
   },
   "outputs": [],
   "source": [
    "pos_frame = int(cap.get(cv.CAP_PROP_POS_FRAMES))\n",
    "num_frames = int(cap.get(cv.CAP_PROP_FRAME_COUNT))\n",
    "# Loop through each frame of the video\n",
    "while cap.isOpened():\n",
    "    # Read the frame\n",
    "    ret, frame = cap.read()\n",
    "    if not ret:\n",
    "        break\n",
    "    # print('frame number: ', pos_frame)\n",
    "    print(\n",
    "        \".\" * (pos_frame % 10 + 1) + \" \" * (num_frames - (pos_frame % 10 + 1)), end=\"\\r\"\n",
    "    )\n",
    "    pos_frame = int(cap.get(cv.CAP_PROP_POS_FRAMES))\n",
    "    results = RetinaFace.detect_faces(np.array(frame))\n",
    "    if isinstance(results, dict):  # no face dedecuted\n",
    "        frame = visualize(frame, results)\n",
    "        # Draw bounding boxes around the faces\n",
    "        # for val in results.values():\n",
    "        #    bbox = val['facial_area']\n",
    "        #    cv.rectangle(frame, (bbox[0], bbox[1]), (bbox[2], bbox[3]), (0, 255, 0), 2)\n",
    "\n",
    "    # Write the frame to the output video file\n",
    "    out.write(frame)\n",
    "\n",
    "    if cap.get(cv.CAP_PROP_POS_FRAMES) == cap.get(cv.CAP_PROP_FRAME_COUNT):\n",
    "        # If the number of captured frames is equal to the total number of frames,\n",
    "        # we stop\n",
    "        break\n",
    "\n",
    "    # Exit if the user presses 'q'\n",
    "    # if cv.waitKey(1) & 0xFF == ord('q'):\n",
    "    #    break"
   ]
  },
  {
   "cell_type": "code",
   "execution_count": null,
   "metadata": {
    "execution": {
     "iopub.execute_input": "2023-05-23T18:36:29.661532Z",
     "iopub.status.busy": "2023-05-23T18:36:29.661108Z",
     "iopub.status.idle": "2023-05-23T18:36:29.670399Z",
     "shell.execute_reply": "2023-05-23T18:36:29.669257Z",
     "shell.execute_reply.started": "2023-05-23T18:36:29.661501Z"
    },
    "trusted": true
   },
   "outputs": [],
   "source": [
    "# Release the video capture, release the output video, and close the window\n",
    "cap.release()\n",
    "out.release()"
   ]
  },
  {
   "cell_type": "code",
   "execution_count": null,
   "metadata": {
    "execution": {
     "iopub.execute_input": "2023-05-23T18:36:38.855736Z",
     "iopub.status.busy": "2023-05-23T18:36:38.855029Z",
     "iopub.status.idle": "2023-05-23T18:36:39.003600Z",
     "shell.execute_reply": "2023-05-23T18:36:39.002289Z",
     "shell.execute_reply.started": "2023-05-23T18:36:38.855700Z"
    },
    "trusted": true
   },
   "outputs": [],
   "source": [
    "# display the video\n",
    "Video(\"output.mp4\", embed=True, width=800)"
   ]
  }
 ],
 "metadata": {
  "kernelspec": {
   "display_name": "Python 3",
   "language": "python",
   "name": "python3"
  },
  "language_info": {
   "codemirror_mode": {
    "name": "ipython",
    "version": 3
   },
   "file_extension": ".py",
   "mimetype": "text/x-python",
   "name": "python",
   "nbconvert_exporter": "python",
   "pygments_lexer": "ipython3",
   "version": "3.11.0"
  }
 },
 "nbformat": 4,
 "nbformat_minor": 4
}
